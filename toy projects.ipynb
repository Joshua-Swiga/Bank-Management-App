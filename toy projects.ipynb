{
 "cells": [
  {
   "cell_type": "code",
   "execution_count": null,
   "metadata": {},
   "outputs": [],
   "source": [
    "class Test:\n",
    "    def __init__(self, name):\n",
    "        self.__name=name\n",
    "\n",
    "    @getattr\n",
    "    def get_name(self):\n",
    "        return f\"{self.__name}\"\n",
    "    \n",
    "    @setattr\n",
    "    def set_name(self, name):\n",
    "        if not isinstance('name', str): \n",
    "            f\"The name should be a string!\"\n",
    "\n",
    "        else:\n",
    "            new_name = self.__name = name\n",
    "            self.__name=new_name\n",
    "            return self.__name\n",
    "        \n",
    "object1=Test(\"Joshua\")\n",
    "\n",
    "print(object1.get_name())\n",
    "\n",
    "\n",
    "            "
   ]
  }
 ],
 "metadata": {
  "language_info": {
   "name": "python"
  }
 },
 "nbformat": 4,
 "nbformat_minor": 2
}
